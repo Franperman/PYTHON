{
 "cells": [
  {
   "cell_type": "code",
   "execution_count": 231,
   "metadata": {},
   "outputs": [
    {
     "name": "stdout",
     "output_type": "stream",
     "text": [
      "mi nombre es Fran y mi edad es 48\n"
     ]
    }
   ],
   "source": [
    "nombre = \"Fran\"\n",
    "edad = 48\n",
    "print(\"mi nombre es {} y mi edad es {}\".format(nombre, edad))"
   ]
  },
  {
   "cell_type": "code",
   "execution_count": 232,
   "metadata": {},
   "outputs": [
    {
     "name": "stdout",
     "output_type": "stream",
     "text": [
      "8\n",
      "8\n"
     ]
    }
   ],
   "source": [
    "frase = \"hola este es un curso básico da python\"\n",
    "\n",
    "lista = frase.split(\" \")\n",
    "\n",
    "print(len(lista))\n",
    "conteo = 0\n",
    "\n",
    "for i in lista:\n",
    "    conteo = conteo + 1\n",
    "\n",
    "print(conteo)"
   ]
  },
  {
   "cell_type": "code",
   "execution_count": 233,
   "metadata": {},
   "outputs": [
    {
     "name": "stdout",
     "output_type": "stream",
     "text": [
      "[1, 4, 1, 5, 4, 8, 3, 10, 7, 20]\n"
     ]
    }
   ],
   "source": [
    "# Lista de números\n",
    "lista1 = [1, -1, 4, -8, 1, 5, -6, -5, 4, 8, 3, -9, 10, -14, 7, 20, -30]\n",
    "\n",
    "# Función que verifica si un número es positivo\n",
    "def positivo(numero):\n",
    "    if numero > 0:  # Retorna True si el número es positivo\n",
    "        return numero\n",
    "# Usamos filter para filtrar los elementos positivos de la lista\n",
    "lista2 = list(filter(positivo, lista1))\n",
    "\n",
    "# Imprimimos la nueva lista con los números positivos\n",
    "print(lista2)\n"
   ]
  },
  {
   "cell_type": "code",
   "execution_count": 234,
   "metadata": {},
   "outputs": [
    {
     "name": "stdout",
     "output_type": "stream",
     "text": [
      "['manzana', 'mananzana', 'melocoton', 'limon', 'pera', 'platano', 'naranja']\n"
     ]
    }
   ],
   "source": [
    "lista3 = [\"mananzana\", \"platano\", \"melocoton\", \"pera\", \"manzana\", \"pera\", \"limon\", \"platano\", \"naranja\"]\n",
    "\n",
    "conjunto = list(set(lista3))\n",
    "\n",
    "print(conjunto)"
   ]
  },
  {
   "cell_type": "code",
   "execution_count": 235,
   "metadata": {},
   "outputs": [
    {
     "name": "stdout",
     "output_type": "stream",
     "text": [
      "[10, 4, 9, 2, 20, 4, 32, 30, 3, 48, 42, 50]\n"
     ]
    }
   ],
   "source": [
    "lista5 = [20, 8, 18, 4, 40, 8, 63, 59, 6, 95, 85, 100]\n",
    "\n",
    "def dividir(numero):\n",
    "    resultado = numero / 2\n",
    "    return int(round(resultado,0))\n",
    "\n",
    "lista6 = (list(map(dividir,lista5)))\n",
    "\n",
    "print(lista6)"
   ]
  },
  {
   "cell_type": "code",
   "execution_count": 236,
   "metadata": {},
   "outputs": [
    {
     "data": {
      "text/plain": [
       "[13, 7, 30, 3.3333333333333335, 1]"
      ]
     },
     "execution_count": 236,
     "metadata": {},
     "output_type": "execute_result"
    }
   ],
   "source": [
    "def operaciones_matematicas(a, b):\n",
    "    resultado = []\n",
    "    suma = a + b\n",
    "    resultado.append(suma)\n",
    "    resta = a - b\n",
    "    resultado.append(resta)\n",
    "    multiplicacion = a * b\n",
    "    resultado.append(multiplicacion)\n",
    "    division = a / b\n",
    "    resultado.append(division)\n",
    "    residuo = a % b\n",
    "    resultado.append(residuo)\n",
    "    return resultado\n",
    "\n",
    "operaciones_matematicas(10,3)"
   ]
  },
  {
   "cell_type": "code",
   "execution_count": 237,
   "metadata": {},
   "outputs": [
    {
     "name": "stdout",
     "output_type": "stream",
     "text": [
      "{'suma': 15, 'promedio': 3.0}\n"
     ]
    }
   ],
   "source": [
    "def calcular_suma_y_promedio(lista_numeros):\n",
    "    resultado = {\"suma\":0,\"promedio\":0}\n",
    "    resultado[\"suma\"] = sum(lista_numeros)\n",
    "    prueva = 0\n",
    "    for i in lista_numeros:\n",
    "        prueva = i + prueva\n",
    "        resultado[\"promedio\"] = (prueva / len(lista_numeros))\n",
    "    return resultado\n",
    "\n",
    "numeros = [1, 2, 3, 4, 5]\n",
    "\n",
    "print(calcular_suma_y_promedio(numeros))"
   ]
  },
  {
   "cell_type": "code",
   "execution_count": 238,
   "metadata": {},
   "outputs": [
    {
     "data": {
      "text/plain": [
       "{1: 2, 2: 3, 3: 1, 4: 2, 5: 1, 8: 2, 10: 3, 11: 1}"
      ]
     },
     "execution_count": 238,
     "metadata": {},
     "output_type": "execute_result"
    }
   ],
   "source": [
    "def contar_frecuencia(lista):\n",
    "    dic = dict()\n",
    "    \n",
    "    for i in lista:\n",
    "        if i in dic:\n",
    "            dic[i] += 1\n",
    "        else:\n",
    "            dic[i] = 1\n",
    "            \n",
    "    return dic\n",
    "\n",
    "elementos = [1, 2, 2, 3, 1, 2, 4, 5, 4, 8, 8, 10, 10, 10, 11]\n",
    "\n",
    "\n",
    "contar_frecuencia(elementos)"
   ]
  },
  {
   "cell_type": "code",
   "execution_count": 239,
   "metadata": {},
   "outputs": [
    {
     "name": "stdout",
     "output_type": "stream",
     "text": [
      "[16, 25, 36]\n"
     ]
    }
   ],
   "source": [
    "def aplicar_funcion_y_filtrar(lista, valor_umbral):\n",
    "    cuadrados = map(lambda x: x ** 2, lista)\n",
    "    \n",
    "    filtrados = filter(lambda x: x > valor_umbral, cuadrados)\n",
    "    \n",
    "    resultado = list(filtrados)\n",
    "    \n",
    "    return resultado\n",
    "\n",
    "# Ejemplo de uso\n",
    "lista_numeros = [1, 2, 3, 4, 5, 6]\n",
    "valor_umbral = 10\n",
    "print(aplicar_funcion_y_filtrar(lista_numeros, valor_umbral))\n",
    "\n"
   ]
  },
  {
   "cell_type": "code",
   "execution_count": 240,
   "metadata": {},
   "outputs": [
    {
     "data": {
      "text/plain": [
       "array([2.        , 2.15384615, 2.30769231, 2.46153846, 2.61538462,\n",
       "       2.76923077, 2.92307692, 3.07692308, 3.23076923, 3.38461538,\n",
       "       3.53846154, 3.69230769, 3.84615385, 4.        , 4.15384615,\n",
       "       4.30769231, 4.46153846, 4.61538462, 4.76923077, 4.92307692,\n",
       "       5.07692308, 5.23076923, 5.38461538, 5.53846154, 5.69230769,\n",
       "       5.84615385, 6.        , 6.15384615, 6.30769231, 6.46153846,\n",
       "       6.61538462, 6.76923077, 6.92307692, 7.07692308, 7.23076923,\n",
       "       7.38461538, 7.53846154, 7.69230769, 7.84615385, 8.        ])"
      ]
     },
     "execution_count": 240,
     "metadata": {},
     "output_type": "execute_result"
    }
   ],
   "source": [
    "import numpy as np\n",
    "\n",
    "np.linspace(2,8,40)\n"
   ]
  },
  {
   "cell_type": "code",
   "execution_count": 241,
   "metadata": {},
   "outputs": [
    {
     "data": {
      "text/plain": [
       "array([ 0,  5, 10, 15, 20, 25])"
      ]
     },
     "execution_count": 241,
     "metadata": {},
     "output_type": "execute_result"
    }
   ],
   "source": [
    "# crear un array con datos específicos entre don números\n",
    "array5 = np.arange(0,30,5)\n",
    "array5"
   ]
  },
  {
   "cell_type": "code",
   "execution_count": 242,
   "metadata": {},
   "outputs": [
    {
     "data": {
      "text/plain": [
       "array([0.91519304, 0.49907434, 0.27664312, 0.10363934, 0.32522229,\n",
       "       0.16200873, 0.15789769, 0.51194912, 0.27962504, 0.26499442])"
      ]
     },
     "execution_count": 242,
     "metadata": {},
     "output_type": "execute_result"
    }
   ],
   "source": [
    "np.random.rand(10)"
   ]
  },
  {
   "cell_type": "code",
   "execution_count": 243,
   "metadata": {},
   "outputs": [
    {
     "data": {
      "text/plain": [
       "array([ 1.14609058, -1.20767193, -1.22887995,  0.95251622, -0.45282984,\n",
       "        1.33042474,  0.12683054, -0.10541314, -0.6460641 ,  0.46097499])"
      ]
     },
     "execution_count": 243,
     "metadata": {},
     "output_type": "execute_result"
    }
   ],
   "source": [
    "np.random.randn(10)"
   ]
  },
  {
   "cell_type": "code",
   "execution_count": 244,
   "metadata": {},
   "outputs": [
    {
     "data": {
      "text/plain": [
       "array([63, 63, 47,  2, 62])"
      ]
     },
     "execution_count": 244,
     "metadata": {},
     "output_type": "execute_result"
    }
   ],
   "source": [
    "np.random.randint(1,67,5)"
   ]
  },
  {
   "cell_type": "code",
   "execution_count": 245,
   "metadata": {},
   "outputs": [
    {
     "data": {
      "text/plain": [
       "array([[62, 97, 46, 80, 77],\n",
       "       [60, 82, 22, 13, 68],\n",
       "       [24,  4, 72, 71,  4],\n",
       "       [87, 35, 72, 33,  5],\n",
       "       [59, 42, 35, 64, 74]])"
      ]
     },
     "execution_count": 245,
     "metadata": {},
     "output_type": "execute_result"
    }
   ],
   "source": [
    "(np.random.randint(1,100,25)).reshape(5,5)"
   ]
  },
  {
   "cell_type": "code",
   "execution_count": 246,
   "metadata": {},
   "outputs": [
    {
     "data": {
      "text/plain": [
       "98"
      ]
     },
     "execution_count": 246,
     "metadata": {},
     "output_type": "execute_result"
    }
   ],
   "source": [
    "max(np.random.randint(1,100,50))"
   ]
  },
  {
   "cell_type": "code",
   "execution_count": 247,
   "metadata": {},
   "outputs": [
    {
     "name": "stdout",
     "output_type": "stream",
     "text": [
      "25\n",
      "56\n"
     ]
    }
   ],
   "source": [
    "# muestra en que posición esta el valor máximo-mínimo.\n",
    "print((np.random.randint(1,100,50000)).argmax())\n",
    "print((np.random.randint(1,100,50000)).argmin())\n"
   ]
  },
  {
   "cell_type": "code",
   "execution_count": 248,
   "metadata": {},
   "outputs": [
    {
     "name": "stdout",
     "output_type": "stream",
     "text": [
      "[1 2 3 4 5 6 7 8 9]\n",
      "[100   2   3   4   5   6   7   8   9]\n",
      "[100   2   3   4   5   6   7   8   9]\n",
      "[100   2   3   4   5   6   7   8   9]\n",
      "[50  2  3  4  5  6  7  8  9]\n"
     ]
    }
   ],
   "source": [
    "array = np.arange(1,10)\n",
    "\n",
    "array[5]\n",
    "\n",
    "array1 = array\n",
    "print(array1)\n",
    "\n",
    "array1[0] = 100\n",
    "\n",
    "print(array)\n",
    "\n",
    "array2 = array.copy()\n",
    "\n",
    "array2[0] = 50\n",
    "\n",
    "print(array)\n",
    "print(array1)\n",
    "print(array2)"
   ]
  },
  {
   "cell_type": "code",
   "execution_count": 249,
   "metadata": {},
   "outputs": [
    {
     "name": "stdout",
     "output_type": "stream",
     "text": [
      "[[62 34 68 22 75]\n",
      " [26 65 22 96  1]\n",
      " [98 79 60 46 47]\n",
      " [80 14 63 22 41]\n",
      " [75 35 78 89 29]]\n",
      "----\n",
      "[ 1 14]\n"
     ]
    }
   ],
   "source": [
    "pepe = (np.random.randint(1,100,25)).reshape(5,5)\n",
    "print(pepe)\n",
    "print(\"----\")\n",
    "print(pepe[pepe < 15])"
   ]
  },
  {
   "cell_type": "code",
   "execution_count": 250,
   "metadata": {},
   "outputs": [
    {
     "name": "stdout",
     "output_type": "stream",
     "text": [
      "[10, 11, 12, 13, 14, 15, 16, 17, 18, 19, 20, 21, 22, 23, 24, 25, 26, 27, 28, 29, 30, 31, 32, 33, 34, 35, 36, 37, 38, 39]\n",
      "----\n",
      "[[10 11 12 13 14 15 16 17 18 19]\n",
      " [20 21 22 23 24 25 26 27 28 29]\n",
      " [30 31 32 33 34 35 36 37 38 39]]\n",
      "----\n",
      "19\n"
     ]
    }
   ],
   "source": [
    "lista7 = list(range(10,40))\n",
    "lista_2d = np.reshape(lista7, (3, 10))\n",
    "\n",
    "print(lista7)\n",
    "print(\"----\")\n",
    "print(lista_2d)\n",
    "print(\"----\")\n",
    "print(lista_2d[0,9])"
   ]
  },
  {
   "cell_type": "code",
   "execution_count": 251,
   "metadata": {},
   "outputs": [
    {
     "name": "stdout",
     "output_type": "stream",
     "text": [
      "[[ 3 46 29]\n",
      " [39 12  5]\n",
      " [79 52  7]]\n",
      "----\n",
      "7\n"
     ]
    }
   ],
   "source": [
    "array4 = (np.random.randint(0,100,9)).reshape(3,3)\n",
    "print(array4)\n",
    "print(\"----\")\n",
    "print(array4[2][2])"
   ]
  },
  {
   "cell_type": "code",
   "execution_count": 252,
   "metadata": {},
   "outputs": [
    {
     "name": "stdout",
     "output_type": "stream",
     "text": [
      "[141 164 263 151 137]\n"
     ]
    }
   ],
   "source": [
    "import numpy as np\n",
    "\n",
    "def generar_numeros_enteros_aleatorios(N, minimo, maximo):\n",
    "    pepe = np.random.randint(minimo, maximo, N)\n",
    "    \n",
    "    return pepe\n",
    "\n",
    "\n",
    "print(generar_numeros_enteros_aleatorios(5,60,300))"
   ]
  },
  {
   "cell_type": "code",
   "execution_count": 253,
   "metadata": {},
   "outputs": [
    {
     "name": "stdout",
     "output_type": "stream",
     "text": [
      "[5, 15, 25, 35, 45, 55]\n"
     ]
    }
   ],
   "source": [
    "import numpy as np\n",
    "\n",
    "def generar_secuencia_numerica(minimo, maximo, paso):\n",
    "    pepe = list(range(minimo,maximo,paso))\n",
    "    return pepe\n",
    "\n",
    "print(generar_secuencia_numerica(5,60,10))"
   ]
  },
  {
   "cell_type": "code",
   "execution_count": 254,
   "metadata": {},
   "outputs": [
    {
     "data": {
      "text/html": [
       "<div>\n",
       "<style scoped>\n",
       "    .dataframe tbody tr th:only-of-type {\n",
       "        vertical-align: middle;\n",
       "    }\n",
       "\n",
       "    .dataframe tbody tr th {\n",
       "        vertical-align: top;\n",
       "    }\n",
       "\n",
       "    .dataframe thead th {\n",
       "        text-align: right;\n",
       "    }\n",
       "</style>\n",
       "<table border=\"1\" class=\"dataframe\">\n",
       "  <thead>\n",
       "    <tr style=\"text-align: right;\">\n",
       "      <th></th>\n",
       "      <th>zorraA</th>\n",
       "      <th>zorraB</th>\n",
       "      <th>zorraC</th>\n",
       "    </tr>\n",
       "  </thead>\n",
       "  <tbody>\n",
       "    <tr>\n",
       "      <th>ventana1</th>\n",
       "      <td>23456.43</td>\n",
       "      <td>2467.34</td>\n",
       "      <td>4567.78</td>\n",
       "    </tr>\n",
       "    <tr>\n",
       "      <th>ventana2</th>\n",
       "      <td>3454.86</td>\n",
       "      <td>456.50</td>\n",
       "      <td>232.65</td>\n",
       "    </tr>\n",
       "    <tr>\n",
       "      <th>ventana3</th>\n",
       "      <td>23.00</td>\n",
       "      <td>57.00</td>\n",
       "      <td>75.00</td>\n",
       "    </tr>\n",
       "  </tbody>\n",
       "</table>\n",
       "</div>"
      ],
      "text/plain": [
       "            zorraA   zorraB   zorraC\n",
       "ventana1  23456.43  2467.34  4567.78\n",
       "ventana2   3454.86   456.50   232.65\n",
       "ventana3     23.00    57.00    75.00"
      ]
     },
     "execution_count": 254,
     "metadata": {},
     "output_type": "execute_result"
    }
   ],
   "source": [
    "import pandas as pd\n",
    "fila =  [\"ventana1\", \"ventana2\", \"ventana3\"]\n",
    "columna = [\"zorraA\", \"zorraB\", \"zorraC\"]\n",
    "datos = [[23456.43, 2467.34, 4567.78], [3454.86, 456.5, 232.65],  [23, 57, 75]]\n",
    "\n",
    "df = pd.DataFrame(datos, fila, columna)\n",
    "\n",
    "df"
   ]
  },
  {
   "cell_type": "code",
   "execution_count": 255,
   "metadata": {},
   "outputs": [
    {
     "data": {
      "text/html": [
       "<div>\n",
       "<style scoped>\n",
       "    .dataframe tbody tr th:only-of-type {\n",
       "        vertical-align: middle;\n",
       "    }\n",
       "\n",
       "    .dataframe tbody tr th {\n",
       "        vertical-align: top;\n",
       "    }\n",
       "\n",
       "    .dataframe thead th {\n",
       "        text-align: right;\n",
       "    }\n",
       "</style>\n",
       "<table border=\"1\" class=\"dataframe\">\n",
       "  <thead>\n",
       "    <tr style=\"text-align: right;\">\n",
       "      <th></th>\n",
       "      <th>zorraA</th>\n",
       "      <th>zorraB</th>\n",
       "      <th>zorraC</th>\n",
       "    </tr>\n",
       "  </thead>\n",
       "  <tbody>\n",
       "    <tr>\n",
       "      <th>ventana1</th>\n",
       "      <td>23456.43</td>\n",
       "      <td>2467.34</td>\n",
       "      <td>4567.78</td>\n",
       "    </tr>\n",
       "    <tr>\n",
       "      <th>ventana2</th>\n",
       "      <td>3454.86</td>\n",
       "      <td>456.50</td>\n",
       "      <td>232.65</td>\n",
       "    </tr>\n",
       "  </tbody>\n",
       "</table>\n",
       "</div>"
      ],
      "text/plain": [
       "            zorraA   zorraB   zorraC\n",
       "ventana1  23456.43  2467.34  4567.78\n",
       "ventana2   3454.86   456.50   232.65"
      ]
     },
     "execution_count": 255,
     "metadata": {},
     "output_type": "execute_result"
    }
   ],
   "source": [
    "df.loc[[\"ventana1\", \"ventana2\"]]"
   ]
  },
  {
   "cell_type": "code",
   "execution_count": 256,
   "metadata": {},
   "outputs": [
    {
     "data": {
      "text/plain": [
       "ventana1    23456.43\n",
       "ventana2     3454.86\n",
       "ventana3       23.00\n",
       "Name: zorraA, dtype: float64"
      ]
     },
     "execution_count": 256,
     "metadata": {},
     "output_type": "execute_result"
    }
   ],
   "source": [
    "df[\"zorraA\"]"
   ]
  },
  {
   "cell_type": "code",
   "execution_count": 257,
   "metadata": {},
   "outputs": [
    {
     "data": {
      "text/plain": [
       "ventana1    23456.43\n",
       "ventana2     3454.86\n",
       "Name: zorraA, dtype: float64"
      ]
     },
     "execution_count": 257,
     "metadata": {},
     "output_type": "execute_result"
    }
   ],
   "source": [
    "df.loc[[\"ventana1\", \"ventana2\"]][\"zorraA\"]"
   ]
  },
  {
   "cell_type": "code",
   "execution_count": 258,
   "metadata": {},
   "outputs": [
    {
     "data": {
      "text/html": [
       "<div>\n",
       "<style scoped>\n",
       "    .dataframe tbody tr th:only-of-type {\n",
       "        vertical-align: middle;\n",
       "    }\n",
       "\n",
       "    .dataframe tbody tr th {\n",
       "        vertical-align: top;\n",
       "    }\n",
       "\n",
       "    .dataframe thead th {\n",
       "        text-align: right;\n",
       "    }\n",
       "</style>\n",
       "<table border=\"1\" class=\"dataframe\">\n",
       "  <thead>\n",
       "    <tr style=\"text-align: right;\">\n",
       "      <th></th>\n",
       "      <th>zorraA</th>\n",
       "      <th>zorraB</th>\n",
       "      <th>zorraC</th>\n",
       "      <th>sumatorias</th>\n",
       "    </tr>\n",
       "  </thead>\n",
       "  <tbody>\n",
       "    <tr>\n",
       "      <th>ventana1</th>\n",
       "      <td>23456.43</td>\n",
       "      <td>2467.34</td>\n",
       "      <td>4567.78</td>\n",
       "      <td>30491.55</td>\n",
       "    </tr>\n",
       "    <tr>\n",
       "      <th>ventana2</th>\n",
       "      <td>3454.86</td>\n",
       "      <td>456.50</td>\n",
       "      <td>232.65</td>\n",
       "      <td>4144.01</td>\n",
       "    </tr>\n",
       "    <tr>\n",
       "      <th>ventana3</th>\n",
       "      <td>23.00</td>\n",
       "      <td>57.00</td>\n",
       "      <td>75.00</td>\n",
       "      <td>155.00</td>\n",
       "    </tr>\n",
       "  </tbody>\n",
       "</table>\n",
       "</div>"
      ],
      "text/plain": [
       "            zorraA   zorraB   zorraC  sumatorias\n",
       "ventana1  23456.43  2467.34  4567.78    30491.55\n",
       "ventana2   3454.86   456.50   232.65     4144.01\n",
       "ventana3     23.00    57.00    75.00      155.00"
      ]
     },
     "execution_count": 258,
     "metadata": {},
     "output_type": "execute_result"
    }
   ],
   "source": [
    "df[\"sumatorias\"] = df[\"zorraA\"] + df[\"zorraB\"] + df[\"zorraC\"]\n",
    "\n",
    "df"
   ]
  },
  {
   "cell_type": "code",
   "execution_count": 259,
   "metadata": {},
   "outputs": [
    {
     "data": {
      "text/html": [
       "<div>\n",
       "<style scoped>\n",
       "    .dataframe tbody tr th:only-of-type {\n",
       "        vertical-align: middle;\n",
       "    }\n",
       "\n",
       "    .dataframe tbody tr th {\n",
       "        vertical-align: top;\n",
       "    }\n",
       "\n",
       "    .dataframe thead th {\n",
       "        text-align: right;\n",
       "    }\n",
       "</style>\n",
       "<table border=\"1\" class=\"dataframe\">\n",
       "  <thead>\n",
       "    <tr style=\"text-align: right;\">\n",
       "      <th></th>\n",
       "      <th>zorraA</th>\n",
       "      <th>zorraB</th>\n",
       "      <th>zorraC</th>\n",
       "    </tr>\n",
       "  </thead>\n",
       "  <tbody>\n",
       "    <tr>\n",
       "      <th>ventana1</th>\n",
       "      <td>23456.43</td>\n",
       "      <td>2467.34</td>\n",
       "      <td>4567.78</td>\n",
       "    </tr>\n",
       "    <tr>\n",
       "      <th>ventana2</th>\n",
       "      <td>3454.86</td>\n",
       "      <td>456.50</td>\n",
       "      <td>232.65</td>\n",
       "    </tr>\n",
       "    <tr>\n",
       "      <th>ventana3</th>\n",
       "      <td>23.00</td>\n",
       "      <td>57.00</td>\n",
       "      <td>75.00</td>\n",
       "    </tr>\n",
       "  </tbody>\n",
       "</table>\n",
       "</div>"
      ],
      "text/plain": [
       "            zorraA   zorraB   zorraC\n",
       "ventana1  23456.43  2467.34  4567.78\n",
       "ventana2   3454.86   456.50   232.65\n",
       "ventana3     23.00    57.00    75.00"
      ]
     },
     "execution_count": 259,
     "metadata": {},
     "output_type": "execute_result"
    }
   ],
   "source": [
    "df.drop(\"sumatorias\", axis=1)"
   ]
  },
  {
   "cell_type": "code",
   "execution_count": 260,
   "metadata": {},
   "outputs": [
    {
     "data": {
      "text/html": [
       "<div>\n",
       "<style scoped>\n",
       "    .dataframe tbody tr th:only-of-type {\n",
       "        vertical-align: middle;\n",
       "    }\n",
       "\n",
       "    .dataframe tbody tr th {\n",
       "        vertical-align: top;\n",
       "    }\n",
       "\n",
       "    .dataframe thead th {\n",
       "        text-align: right;\n",
       "    }\n",
       "</style>\n",
       "<table border=\"1\" class=\"dataframe\">\n",
       "  <thead>\n",
       "    <tr style=\"text-align: right;\">\n",
       "      <th></th>\n",
       "      <th>zorraA</th>\n",
       "      <th>zorraB</th>\n",
       "      <th>zorraC</th>\n",
       "      <th>sumatorias</th>\n",
       "    </tr>\n",
       "  </thead>\n",
       "  <tbody>\n",
       "    <tr>\n",
       "      <th>ventana1</th>\n",
       "      <td>23456.43</td>\n",
       "      <td>2467.34</td>\n",
       "      <td>4567.78</td>\n",
       "      <td>30491.55</td>\n",
       "    </tr>\n",
       "    <tr>\n",
       "      <th>ventana2</th>\n",
       "      <td>3454.86</td>\n",
       "      <td>456.50</td>\n",
       "      <td>232.65</td>\n",
       "      <td>4144.01</td>\n",
       "    </tr>\n",
       "    <tr>\n",
       "      <th>ventana3</th>\n",
       "      <td>23.00</td>\n",
       "      <td>57.00</td>\n",
       "      <td>75.00</td>\n",
       "      <td>155.00</td>\n",
       "    </tr>\n",
       "  </tbody>\n",
       "</table>\n",
       "</div>"
      ],
      "text/plain": [
       "            zorraA   zorraB   zorraC  sumatorias\n",
       "ventana1  23456.43  2467.34  4567.78    30491.55\n",
       "ventana2   3454.86   456.50   232.65     4144.01\n",
       "ventana3     23.00    57.00    75.00      155.00"
      ]
     },
     "execution_count": 260,
     "metadata": {},
     "output_type": "execute_result"
    }
   ],
   "source": [
    "df"
   ]
  },
  {
   "cell_type": "code",
   "execution_count": 261,
   "metadata": {},
   "outputs": [
    {
     "data": {
      "text/html": [
       "<div>\n",
       "<style scoped>\n",
       "    .dataframe tbody tr th:only-of-type {\n",
       "        vertical-align: middle;\n",
       "    }\n",
       "\n",
       "    .dataframe tbody tr th {\n",
       "        vertical-align: top;\n",
       "    }\n",
       "\n",
       "    .dataframe thead th {\n",
       "        text-align: right;\n",
       "    }\n",
       "</style>\n",
       "<table border=\"1\" class=\"dataframe\">\n",
       "  <thead>\n",
       "    <tr style=\"text-align: right;\">\n",
       "      <th></th>\n",
       "      <th>zorraA</th>\n",
       "      <th>zorraB</th>\n",
       "      <th>zorraC</th>\n",
       "    </tr>\n",
       "  </thead>\n",
       "  <tbody>\n",
       "    <tr>\n",
       "      <th>ventana1</th>\n",
       "      <td>23456.43</td>\n",
       "      <td>2467.34</td>\n",
       "      <td>4567.78</td>\n",
       "    </tr>\n",
       "    <tr>\n",
       "      <th>ventana2</th>\n",
       "      <td>3454.86</td>\n",
       "      <td>456.50</td>\n",
       "      <td>232.65</td>\n",
       "    </tr>\n",
       "    <tr>\n",
       "      <th>ventana3</th>\n",
       "      <td>23.00</td>\n",
       "      <td>57.00</td>\n",
       "      <td>75.00</td>\n",
       "    </tr>\n",
       "  </tbody>\n",
       "</table>\n",
       "</div>"
      ],
      "text/plain": [
       "            zorraA   zorraB   zorraC\n",
       "ventana1  23456.43  2467.34  4567.78\n",
       "ventana2   3454.86   456.50   232.65\n",
       "ventana3     23.00    57.00    75.00"
      ]
     },
     "execution_count": 261,
     "metadata": {},
     "output_type": "execute_result"
    }
   ],
   "source": [
    "df.drop(\"sumatorias\", axis = 1, inplace = True)\n",
    "\n",
    "df"
   ]
  },
  {
   "cell_type": "code",
   "execution_count": 262,
   "metadata": {},
   "outputs": [
    {
     "data": {
      "text/html": [
       "<div>\n",
       "<style scoped>\n",
       "    .dataframe tbody tr th:only-of-type {\n",
       "        vertical-align: middle;\n",
       "    }\n",
       "\n",
       "    .dataframe tbody tr th {\n",
       "        vertical-align: top;\n",
       "    }\n",
       "\n",
       "    .dataframe thead th {\n",
       "        text-align: right;\n",
       "    }\n",
       "</style>\n",
       "<table border=\"1\" class=\"dataframe\">\n",
       "  <thead>\n",
       "    <tr style=\"text-align: right;\">\n",
       "      <th></th>\n",
       "      <th>zorraA</th>\n",
       "      <th>zorraB</th>\n",
       "      <th>zorraC</th>\n",
       "    </tr>\n",
       "  </thead>\n",
       "  <tbody>\n",
       "    <tr>\n",
       "      <th>ventana1</th>\n",
       "      <td>23456.43</td>\n",
       "      <td>2467.34</td>\n",
       "      <td>4567.78</td>\n",
       "    </tr>\n",
       "    <tr>\n",
       "      <th>ventana2</th>\n",
       "      <td>3454.86</td>\n",
       "      <td>456.50</td>\n",
       "      <td>232.65</td>\n",
       "    </tr>\n",
       "  </tbody>\n",
       "</table>\n",
       "</div>"
      ],
      "text/plain": [
       "            zorraA   zorraB   zorraC\n",
       "ventana1  23456.43  2467.34  4567.78\n",
       "ventana2   3454.86   456.50   232.65"
      ]
     },
     "execution_count": 262,
     "metadata": {},
     "output_type": "execute_result"
    }
   ],
   "source": [
    "df.drop(\"ventana3\")"
   ]
  },
  {
   "cell_type": "code",
   "execution_count": 263,
   "metadata": {},
   "outputs": [
    {
     "data": {
      "text/html": [
       "<div>\n",
       "<style scoped>\n",
       "    .dataframe tbody tr th:only-of-type {\n",
       "        vertical-align: middle;\n",
       "    }\n",
       "\n",
       "    .dataframe tbody tr th {\n",
       "        vertical-align: top;\n",
       "    }\n",
       "\n",
       "    .dataframe thead th {\n",
       "        text-align: right;\n",
       "    }\n",
       "</style>\n",
       "<table border=\"1\" class=\"dataframe\">\n",
       "  <thead>\n",
       "    <tr style=\"text-align: right;\">\n",
       "      <th></th>\n",
       "      <th>zorraA</th>\n",
       "      <th>zorraB</th>\n",
       "      <th>zorraC</th>\n",
       "    </tr>\n",
       "  </thead>\n",
       "  <tbody>\n",
       "    <tr>\n",
       "      <th>ventana1</th>\n",
       "      <td>23456.43</td>\n",
       "      <td>2467.34</td>\n",
       "      <td>4567.78</td>\n",
       "    </tr>\n",
       "    <tr>\n",
       "      <th>ventana2</th>\n",
       "      <td>3454.86</td>\n",
       "      <td>456.50</td>\n",
       "      <td>232.65</td>\n",
       "    </tr>\n",
       "    <tr>\n",
       "      <th>ventana3</th>\n",
       "      <td>23.00</td>\n",
       "      <td>57.00</td>\n",
       "      <td>75.00</td>\n",
       "    </tr>\n",
       "  </tbody>\n",
       "</table>\n",
       "</div>"
      ],
      "text/plain": [
       "            zorraA   zorraB   zorraC\n",
       "ventana1  23456.43  2467.34  4567.78\n",
       "ventana2   3454.86   456.50   232.65\n",
       "ventana3     23.00    57.00    75.00"
      ]
     },
     "execution_count": 263,
     "metadata": {},
     "output_type": "execute_result"
    }
   ],
   "source": [
    "df"
   ]
  },
  {
   "cell_type": "code",
   "execution_count": 264,
   "metadata": {},
   "outputs": [
    {
     "data": {
      "text/html": [
       "<div>\n",
       "<style scoped>\n",
       "    .dataframe tbody tr th:only-of-type {\n",
       "        vertical-align: middle;\n",
       "    }\n",
       "\n",
       "    .dataframe tbody tr th {\n",
       "        vertical-align: top;\n",
       "    }\n",
       "\n",
       "    .dataframe thead th {\n",
       "        text-align: right;\n",
       "    }\n",
       "</style>\n",
       "<table border=\"1\" class=\"dataframe\">\n",
       "  <thead>\n",
       "    <tr style=\"text-align: right;\">\n",
       "      <th></th>\n",
       "      <th>zorraA</th>\n",
       "      <th>zorraB</th>\n",
       "      <th>zorraC</th>\n",
       "    </tr>\n",
       "  </thead>\n",
       "  <tbody>\n",
       "    <tr>\n",
       "      <th>ventana1</th>\n",
       "      <td>23456.43</td>\n",
       "      <td>2467.34</td>\n",
       "      <td>4567.78</td>\n",
       "    </tr>\n",
       "    <tr>\n",
       "      <th>ventana2</th>\n",
       "      <td>3454.86</td>\n",
       "      <td>456.50</td>\n",
       "      <td>232.65</td>\n",
       "    </tr>\n",
       "  </tbody>\n",
       "</table>\n",
       "</div>"
      ],
      "text/plain": [
       "            zorraA   zorraB   zorraC\n",
       "ventana1  23456.43  2467.34  4567.78\n",
       "ventana2   3454.86   456.50   232.65"
      ]
     },
     "execution_count": 264,
     "metadata": {},
     "output_type": "execute_result"
    }
   ],
   "source": [
    "df.drop(\"ventana3\", inplace=True)\n",
    "\n",
    "df"
   ]
  },
  {
   "cell_type": "code",
   "execution_count": 265,
   "metadata": {},
   "outputs": [
    {
     "data": {
      "text/html": [
       "<div>\n",
       "<style scoped>\n",
       "    .dataframe tbody tr th:only-of-type {\n",
       "        vertical-align: middle;\n",
       "    }\n",
       "\n",
       "    .dataframe tbody tr th {\n",
       "        vertical-align: top;\n",
       "    }\n",
       "\n",
       "    .dataframe thead th {\n",
       "        text-align: right;\n",
       "    }\n",
       "</style>\n",
       "<table border=\"1\" class=\"dataframe\">\n",
       "  <thead>\n",
       "    <tr style=\"text-align: right;\">\n",
       "      <th></th>\n",
       "      <th>zorraA</th>\n",
       "      <th>zorraB</th>\n",
       "      <th>zorraC</th>\n",
       "    </tr>\n",
       "  </thead>\n",
       "  <tbody>\n",
       "    <tr>\n",
       "      <th>ventana1</th>\n",
       "      <td>23456.43</td>\n",
       "      <td>2467.34</td>\n",
       "      <td>4567.78</td>\n",
       "    </tr>\n",
       "    <tr>\n",
       "      <th>ventana2</th>\n",
       "      <td>3454.86</td>\n",
       "      <td>456.50</td>\n",
       "      <td>232.65</td>\n",
       "    </tr>\n",
       "    <tr>\n",
       "      <th>ventana3</th>\n",
       "      <td>23.00</td>\n",
       "      <td>57.00</td>\n",
       "      <td>75.00</td>\n",
       "    </tr>\n",
       "  </tbody>\n",
       "</table>\n",
       "</div>"
      ],
      "text/plain": [
       "            zorraA   zorraB   zorraC\n",
       "ventana1  23456.43  2467.34  4567.78\n",
       "ventana2   3454.86   456.50   232.65\n",
       "ventana3     23.00    57.00    75.00"
      ]
     },
     "execution_count": 265,
     "metadata": {},
     "output_type": "execute_result"
    }
   ],
   "source": [
    "fila =  [\"ventana1\", \"ventana2\", \"ventana3\"]\n",
    "columna = [\"zorraA\", \"zorraB\", \"zorraC\"]\n",
    "datos = [[23456.43, 2467.34, 4567.78], [3454.86, 456.5, 232.65],  [23, 57, 75]]\n",
    "\n",
    "df = pd.DataFrame(datos, fila, columna)\n",
    "\n",
    "df"
   ]
  },
  {
   "cell_type": "code",
   "execution_count": 266,
   "metadata": {},
   "outputs": [
    {
     "data": {
      "text/html": [
       "<div>\n",
       "<style scoped>\n",
       "    .dataframe tbody tr th:only-of-type {\n",
       "        vertical-align: middle;\n",
       "    }\n",
       "\n",
       "    .dataframe tbody tr th {\n",
       "        vertical-align: top;\n",
       "    }\n",
       "\n",
       "    .dataframe thead th {\n",
       "        text-align: right;\n",
       "    }\n",
       "</style>\n",
       "<table border=\"1\" class=\"dataframe\">\n",
       "  <thead>\n",
       "    <tr style=\"text-align: right;\">\n",
       "      <th></th>\n",
       "      <th>zorraA</th>\n",
       "      <th>zorraB</th>\n",
       "      <th>zorraC</th>\n",
       "    </tr>\n",
       "  </thead>\n",
       "  <tbody>\n",
       "    <tr>\n",
       "      <th>ventana1</th>\n",
       "      <td>23456.43</td>\n",
       "      <td>2467.34</td>\n",
       "      <td>4567.78</td>\n",
       "    </tr>\n",
       "    <tr>\n",
       "      <th>ventana2</th>\n",
       "      <td>3454.86</td>\n",
       "      <td>456.50</td>\n",
       "      <td>232.65</td>\n",
       "    </tr>\n",
       "    <tr>\n",
       "      <th>ventana3</th>\n",
       "      <td>NaN</td>\n",
       "      <td>NaN</td>\n",
       "      <td>NaN</td>\n",
       "    </tr>\n",
       "  </tbody>\n",
       "</table>\n",
       "</div>"
      ],
      "text/plain": [
       "            zorraA   zorraB   zorraC\n",
       "ventana1  23456.43  2467.34  4567.78\n",
       "ventana2   3454.86   456.50   232.65\n",
       "ventana3       NaN      NaN      NaN"
      ]
     },
     "execution_count": 266,
     "metadata": {},
     "output_type": "execute_result"
    }
   ],
   "source": [
    "df[df > 200]"
   ]
  },
  {
   "cell_type": "code",
   "execution_count": 267,
   "metadata": {},
   "outputs": [
    {
     "data": {
      "text/html": [
       "<div>\n",
       "<style scoped>\n",
       "    .dataframe tbody tr th:only-of-type {\n",
       "        vertical-align: middle;\n",
       "    }\n",
       "\n",
       "    .dataframe tbody tr th {\n",
       "        vertical-align: top;\n",
       "    }\n",
       "\n",
       "    .dataframe thead th {\n",
       "        text-align: right;\n",
       "    }\n",
       "</style>\n",
       "<table border=\"1\" class=\"dataframe\">\n",
       "  <thead>\n",
       "    <tr style=\"text-align: right;\">\n",
       "      <th></th>\n",
       "      <th>zorraA</th>\n",
       "      <th>zorraB</th>\n",
       "      <th>zorraC</th>\n",
       "    </tr>\n",
       "  </thead>\n",
       "  <tbody>\n",
       "    <tr>\n",
       "      <th>ventana1</th>\n",
       "      <td>23456.43</td>\n",
       "      <td>2467.34</td>\n",
       "      <td>4567.78</td>\n",
       "    </tr>\n",
       "    <tr>\n",
       "      <th>ventana2</th>\n",
       "      <td>3454.86</td>\n",
       "      <td>456.50</td>\n",
       "      <td>232.65</td>\n",
       "    </tr>\n",
       "  </tbody>\n",
       "</table>\n",
       "</div>"
      ],
      "text/plain": [
       "            zorraA   zorraB   zorraC\n",
       "ventana1  23456.43  2467.34  4567.78\n",
       "ventana2   3454.86   456.50   232.65"
      ]
     },
     "execution_count": 267,
     "metadata": {},
     "output_type": "execute_result"
    }
   ],
   "source": [
    "df[df[\"zorraA\"] > 200]"
   ]
  },
  {
   "cell_type": "code",
   "execution_count": 268,
   "metadata": {},
   "outputs": [
    {
     "data": {
      "text/html": [
       "<div>\n",
       "<style scoped>\n",
       "    .dataframe tbody tr th:only-of-type {\n",
       "        vertical-align: middle;\n",
       "    }\n",
       "\n",
       "    .dataframe tbody tr th {\n",
       "        vertical-align: top;\n",
       "    }\n",
       "\n",
       "    .dataframe thead th {\n",
       "        text-align: right;\n",
       "    }\n",
       "</style>\n",
       "<table border=\"1\" class=\"dataframe\">\n",
       "  <thead>\n",
       "    <tr style=\"text-align: right;\">\n",
       "      <th></th>\n",
       "      <th>zorraA</th>\n",
       "      <th>zorraC</th>\n",
       "    </tr>\n",
       "  </thead>\n",
       "  <tbody>\n",
       "    <tr>\n",
       "      <th>ventana2</th>\n",
       "      <td>3454.86</td>\n",
       "      <td>232.65</td>\n",
       "    </tr>\n",
       "  </tbody>\n",
       "</table>\n",
       "</div>"
      ],
      "text/plain": [
       "           zorraA  zorraC\n",
       "ventana2  3454.86  232.65"
      ]
     },
     "execution_count": 268,
     "metadata": {},
     "output_type": "execute_result"
    }
   ],
   "source": [
    "df[(df[\"zorraA\"] > 200.0) & (df[\"zorraB\"] < 500.0)][[\"zorraA\", \"zorraC\"]]\n"
   ]
  },
  {
   "cell_type": "code",
   "execution_count": 269,
   "metadata": {},
   "outputs": [
    {
     "data": {
      "text/html": [
       "<div>\n",
       "<style scoped>\n",
       "    .dataframe tbody tr th:only-of-type {\n",
       "        vertical-align: middle;\n",
       "    }\n",
       "\n",
       "    .dataframe tbody tr th {\n",
       "        vertical-align: top;\n",
       "    }\n",
       "\n",
       "    .dataframe thead th {\n",
       "        text-align: right;\n",
       "    }\n",
       "</style>\n",
       "<table border=\"1\" class=\"dataframe\">\n",
       "  <thead>\n",
       "    <tr style=\"text-align: right;\">\n",
       "      <th></th>\n",
       "      <th>zorraA</th>\n",
       "      <th>zorraB</th>\n",
       "      <th>zorraC</th>\n",
       "    </tr>\n",
       "  </thead>\n",
       "  <tbody>\n",
       "    <tr>\n",
       "      <th>ventana1</th>\n",
       "      <td>23456.43</td>\n",
       "      <td>2467.34</td>\n",
       "      <td>4567.78</td>\n",
       "    </tr>\n",
       "    <tr>\n",
       "      <th>ventana2</th>\n",
       "      <td>3454.86</td>\n",
       "      <td>456.50</td>\n",
       "      <td>232.65</td>\n",
       "    </tr>\n",
       "    <tr>\n",
       "      <th>ventana3</th>\n",
       "      <td>23.00</td>\n",
       "      <td>57.00</td>\n",
       "      <td>75.00</td>\n",
       "    </tr>\n",
       "  </tbody>\n",
       "</table>\n",
       "</div>"
      ],
      "text/plain": [
       "            zorraA   zorraB   zorraC\n",
       "ventana1  23456.43  2467.34  4567.78\n",
       "ventana2   3454.86   456.50   232.65\n",
       "ventana3     23.00    57.00    75.00"
      ]
     },
     "execution_count": 269,
     "metadata": {},
     "output_type": "execute_result"
    }
   ],
   "source": [
    "df"
   ]
  },
  {
   "cell_type": "code",
   "execution_count": 270,
   "metadata": {},
   "outputs": [
    {
     "data": {
      "text/plain": [
       "['Amparo', 'Marta', 'Pechona']"
      ]
     },
     "execution_count": 270,
     "metadata": {},
     "output_type": "execute_result"
    }
   ],
   "source": [
    "nuevas_filas = \"Amparo Marta Pechona\".split()\n",
    "nuevas_filas"
   ]
  },
  {
   "cell_type": "code",
   "execution_count": 271,
   "metadata": {},
   "outputs": [
    {
     "data": {
      "text/html": [
       "<div>\n",
       "<style scoped>\n",
       "    .dataframe tbody tr th:only-of-type {\n",
       "        vertical-align: middle;\n",
       "    }\n",
       "\n",
       "    .dataframe tbody tr th {\n",
       "        vertical-align: top;\n",
       "    }\n",
       "\n",
       "    .dataframe thead th {\n",
       "        text-align: right;\n",
       "    }\n",
       "</style>\n",
       "<table border=\"1\" class=\"dataframe\">\n",
       "  <thead>\n",
       "    <tr style=\"text-align: right;\">\n",
       "      <th></th>\n",
       "      <th>zorraA</th>\n",
       "      <th>zorraB</th>\n",
       "      <th>zorraC</th>\n",
       "      <th>Hijas</th>\n",
       "    </tr>\n",
       "  </thead>\n",
       "  <tbody>\n",
       "    <tr>\n",
       "      <th>ventana1</th>\n",
       "      <td>23456.43</td>\n",
       "      <td>2467.34</td>\n",
       "      <td>4567.78</td>\n",
       "      <td>Amparo</td>\n",
       "    </tr>\n",
       "    <tr>\n",
       "      <th>ventana2</th>\n",
       "      <td>3454.86</td>\n",
       "      <td>456.50</td>\n",
       "      <td>232.65</td>\n",
       "      <td>Marta</td>\n",
       "    </tr>\n",
       "    <tr>\n",
       "      <th>ventana3</th>\n",
       "      <td>23.00</td>\n",
       "      <td>57.00</td>\n",
       "      <td>75.00</td>\n",
       "      <td>Pechona</td>\n",
       "    </tr>\n",
       "  </tbody>\n",
       "</table>\n",
       "</div>"
      ],
      "text/plain": [
       "            zorraA   zorraB   zorraC    Hijas\n",
       "ventana1  23456.43  2467.34  4567.78   Amparo\n",
       "ventana2   3454.86   456.50   232.65    Marta\n",
       "ventana3     23.00    57.00    75.00  Pechona"
      ]
     },
     "execution_count": 271,
     "metadata": {},
     "output_type": "execute_result"
    }
   ],
   "source": [
    "df[\"Hijas\"] = nuevas_filas\n",
    "\n",
    "df"
   ]
  },
  {
   "cell_type": "code",
   "execution_count": 272,
   "metadata": {},
   "outputs": [
    {
     "data": {
      "text/html": [
       "<div>\n",
       "<style scoped>\n",
       "    .dataframe tbody tr th:only-of-type {\n",
       "        vertical-align: middle;\n",
       "    }\n",
       "\n",
       "    .dataframe tbody tr th {\n",
       "        vertical-align: top;\n",
       "    }\n",
       "\n",
       "    .dataframe thead th {\n",
       "        text-align: right;\n",
       "    }\n",
       "</style>\n",
       "<table border=\"1\" class=\"dataframe\">\n",
       "  <thead>\n",
       "    <tr style=\"text-align: right;\">\n",
       "      <th></th>\n",
       "      <th>zorraA</th>\n",
       "      <th>zorraB</th>\n",
       "      <th>zorraC</th>\n",
       "    </tr>\n",
       "    <tr>\n",
       "      <th>Hijas</th>\n",
       "      <th></th>\n",
       "      <th></th>\n",
       "      <th></th>\n",
       "    </tr>\n",
       "  </thead>\n",
       "  <tbody>\n",
       "    <tr>\n",
       "      <th>Amparo</th>\n",
       "      <td>23456.43</td>\n",
       "      <td>2467.34</td>\n",
       "      <td>4567.78</td>\n",
       "    </tr>\n",
       "    <tr>\n",
       "      <th>Marta</th>\n",
       "      <td>3454.86</td>\n",
       "      <td>456.50</td>\n",
       "      <td>232.65</td>\n",
       "    </tr>\n",
       "    <tr>\n",
       "      <th>Pechona</th>\n",
       "      <td>23.00</td>\n",
       "      <td>57.00</td>\n",
       "      <td>75.00</td>\n",
       "    </tr>\n",
       "  </tbody>\n",
       "</table>\n",
       "</div>"
      ],
      "text/plain": [
       "           zorraA   zorraB   zorraC\n",
       "Hijas                              \n",
       "Amparo   23456.43  2467.34  4567.78\n",
       "Marta     3454.86   456.50   232.65\n",
       "Pechona     23.00    57.00    75.00"
      ]
     },
     "execution_count": 272,
     "metadata": {},
     "output_type": "execute_result"
    }
   ],
   "source": [
    "df.set_index(\"Hijas\", inplace = True)\n",
    "df"
   ]
  },
  {
   "cell_type": "code",
   "execution_count": 273,
   "metadata": {},
   "outputs": [
    {
     "data": {
      "text/html": [
       "<div>\n",
       "<style scoped>\n",
       "    .dataframe tbody tr th:only-of-type {\n",
       "        vertical-align: middle;\n",
       "    }\n",
       "\n",
       "    .dataframe tbody tr th {\n",
       "        vertical-align: top;\n",
       "    }\n",
       "\n",
       "    .dataframe thead th {\n",
       "        text-align: right;\n",
       "    }\n",
       "</style>\n",
       "<table border=\"1\" class=\"dataframe\">\n",
       "  <thead>\n",
       "    <tr style=\"text-align: right;\">\n",
       "      <th></th>\n",
       "      <th>zorraA</th>\n",
       "      <th>zorraB</th>\n",
       "      <th>zorraC</th>\n",
       "    </tr>\n",
       "  </thead>\n",
       "  <tbody>\n",
       "    <tr>\n",
       "      <th>ventana1</th>\n",
       "      <td>23456.43</td>\n",
       "      <td>NaN</td>\n",
       "      <td>4567.78</td>\n",
       "    </tr>\n",
       "    <tr>\n",
       "      <th>ventana2</th>\n",
       "      <td>3454.86</td>\n",
       "      <td>456.5</td>\n",
       "      <td>NaN</td>\n",
       "    </tr>\n",
       "    <tr>\n",
       "      <th>ventana3</th>\n",
       "      <td>NaN</td>\n",
       "      <td>57.0</td>\n",
       "      <td>75.00</td>\n",
       "    </tr>\n",
       "  </tbody>\n",
       "</table>\n",
       "</div>"
      ],
      "text/plain": [
       "            zorraA  zorraB   zorraC\n",
       "ventana1  23456.43     NaN  4567.78\n",
       "ventana2   3454.86   456.5      NaN\n",
       "ventana3       NaN    57.0    75.00"
      ]
     },
     "execution_count": 273,
     "metadata": {},
     "output_type": "execute_result"
    }
   ],
   "source": [
    "fila =  [\"ventana1\", \"ventana2\", \"ventana3\"]\n",
    "columna = [\"zorraA\", \"zorraB\", \"zorraC\"]\n",
    "datos = [[23456.43, np.nan, 4567.78], [3454.86, 456.5, None],  [np.nan, 57, 75]]\n",
    "\n",
    "df1 = pd.DataFrame(datos, fila, columna)\n",
    "\n",
    "df1"
   ]
  },
  {
   "cell_type": "code",
   "execution_count": 274,
   "metadata": {},
   "outputs": [
    {
     "data": {
      "text/html": [
       "<div>\n",
       "<style scoped>\n",
       "    .dataframe tbody tr th:only-of-type {\n",
       "        vertical-align: middle;\n",
       "    }\n",
       "\n",
       "    .dataframe tbody tr th {\n",
       "        vertical-align: top;\n",
       "    }\n",
       "\n",
       "    .dataframe thead th {\n",
       "        text-align: right;\n",
       "    }\n",
       "</style>\n",
       "<table border=\"1\" class=\"dataframe\">\n",
       "  <thead>\n",
       "    <tr style=\"text-align: right;\">\n",
       "      <th></th>\n",
       "    </tr>\n",
       "  </thead>\n",
       "  <tbody>\n",
       "    <tr>\n",
       "      <th>ventana1</th>\n",
       "    </tr>\n",
       "    <tr>\n",
       "      <th>ventana2</th>\n",
       "    </tr>\n",
       "    <tr>\n",
       "      <th>ventana3</th>\n",
       "    </tr>\n",
       "  </tbody>\n",
       "</table>\n",
       "</div>"
      ],
      "text/plain": [
       "Empty DataFrame\n",
       "Columns: []\n",
       "Index: [ventana1, ventana2, ventana3]"
      ]
     },
     "execution_count": 274,
     "metadata": {},
     "output_type": "execute_result"
    }
   ],
   "source": [
    "df1.dropna(axis=1)"
   ]
  },
  {
   "cell_type": "code",
   "execution_count": 275,
   "metadata": {},
   "outputs": [
    {
     "data": {
      "text/html": [
       "<div>\n",
       "<style scoped>\n",
       "    .dataframe tbody tr th:only-of-type {\n",
       "        vertical-align: middle;\n",
       "    }\n",
       "\n",
       "    .dataframe tbody tr th {\n",
       "        vertical-align: top;\n",
       "    }\n",
       "\n",
       "    .dataframe thead th {\n",
       "        text-align: right;\n",
       "    }\n",
       "</style>\n",
       "<table border=\"1\" class=\"dataframe\">\n",
       "  <thead>\n",
       "    <tr style=\"text-align: right;\">\n",
       "      <th></th>\n",
       "      <th>zorraA</th>\n",
       "      <th>zorraB</th>\n",
       "      <th>zorraC</th>\n",
       "    </tr>\n",
       "  </thead>\n",
       "  <tbody>\n",
       "  </tbody>\n",
       "</table>\n",
       "</div>"
      ],
      "text/plain": [
       "Empty DataFrame\n",
       "Columns: [zorraA, zorraB, zorraC]\n",
       "Index: []"
      ]
     },
     "execution_count": 275,
     "metadata": {},
     "output_type": "execute_result"
    }
   ],
   "source": [
    "df1.dropna(axis=0)"
   ]
  },
  {
   "cell_type": "code",
   "execution_count": 276,
   "metadata": {},
   "outputs": [
    {
     "data": {
      "text/html": [
       "<div>\n",
       "<style scoped>\n",
       "    .dataframe tbody tr th:only-of-type {\n",
       "        vertical-align: middle;\n",
       "    }\n",
       "\n",
       "    .dataframe tbody tr th {\n",
       "        vertical-align: top;\n",
       "    }\n",
       "\n",
       "    .dataframe thead th {\n",
       "        text-align: right;\n",
       "    }\n",
       "</style>\n",
       "<table border=\"1\" class=\"dataframe\">\n",
       "  <thead>\n",
       "    <tr style=\"text-align: right;\">\n",
       "      <th></th>\n",
       "      <th>zorraA</th>\n",
       "      <th>zorraB</th>\n",
       "      <th>zorraC</th>\n",
       "    </tr>\n",
       "  </thead>\n",
       "  <tbody>\n",
       "    <tr>\n",
       "      <th>ventana1</th>\n",
       "      <td>23456.43</td>\n",
       "      <td>57.0</td>\n",
       "      <td>4567.78</td>\n",
       "    </tr>\n",
       "    <tr>\n",
       "      <th>ventana2</th>\n",
       "      <td>3454.86</td>\n",
       "      <td>456.5</td>\n",
       "      <td>75.00</td>\n",
       "    </tr>\n",
       "    <tr>\n",
       "      <th>ventana3</th>\n",
       "      <td>3454.86</td>\n",
       "      <td>57.0</td>\n",
       "      <td>75.00</td>\n",
       "    </tr>\n",
       "  </tbody>\n",
       "</table>\n",
       "</div>"
      ],
      "text/plain": [
       "            zorraA  zorraB   zorraC\n",
       "ventana1  23456.43    57.0  4567.78\n",
       "ventana2   3454.86   456.5    75.00\n",
       "ventana3   3454.86    57.0    75.00"
      ]
     },
     "execution_count": 276,
     "metadata": {},
     "output_type": "execute_result"
    }
   ],
   "source": [
    "df1.fillna(value=df1.min())"
   ]
  },
  {
   "cell_type": "code",
   "execution_count": 277,
   "metadata": {},
   "outputs": [
    {
     "data": {
      "text/html": [
       "<div>\n",
       "<style scoped>\n",
       "    .dataframe tbody tr th:only-of-type {\n",
       "        vertical-align: middle;\n",
       "    }\n",
       "\n",
       "    .dataframe tbody tr th {\n",
       "        vertical-align: top;\n",
       "    }\n",
       "\n",
       "    .dataframe thead th {\n",
       "        text-align: right;\n",
       "    }\n",
       "</style>\n",
       "<table border=\"1\" class=\"dataframe\">\n",
       "  <thead>\n",
       "    <tr style=\"text-align: right;\">\n",
       "      <th></th>\n",
       "      <th>dias</th>\n",
       "      <th>vendedores</th>\n",
       "      <th>ventas</th>\n",
       "    </tr>\n",
       "  </thead>\n",
       "  <tbody>\n",
       "    <tr>\n",
       "      <th>0</th>\n",
       "      <td>dia1</td>\n",
       "      <td>Manolito</td>\n",
       "      <td>300</td>\n",
       "    </tr>\n",
       "    <tr>\n",
       "      <th>1</th>\n",
       "      <td>dia1</td>\n",
       "      <td>Marta</td>\n",
       "      <td>200</td>\n",
       "    </tr>\n",
       "    <tr>\n",
       "      <th>2</th>\n",
       "      <td>dia2</td>\n",
       "      <td>Josefina</td>\n",
       "      <td>500</td>\n",
       "    </tr>\n",
       "    <tr>\n",
       "      <th>3</th>\n",
       "      <td>dia2</td>\n",
       "      <td>Pepe</td>\n",
       "      <td>100</td>\n",
       "    </tr>\n",
       "    <tr>\n",
       "      <th>4</th>\n",
       "      <td>dia3</td>\n",
       "      <td>Estefania</td>\n",
       "      <td>400</td>\n",
       "    </tr>\n",
       "  </tbody>\n",
       "</table>\n",
       "</div>"
      ],
      "text/plain": [
       "   dias vendedores  ventas\n",
       "0  dia1   Manolito     300\n",
       "1  dia1      Marta     200\n",
       "2  dia2   Josefina     500\n",
       "3  dia2       Pepe     100\n",
       "4  dia3  Estefania     400"
      ]
     },
     "execution_count": 277,
     "metadata": {},
     "output_type": "execute_result"
    }
   ],
   "source": [
    "diccionario = {\"dias\": [\"dia1\", \"dia1\", \"dia2\", \"dia2\", \"dia3\"], \n",
    "                \"vendedores\": [\"Manolito\", \"Marta\", \"Josefina\", \"Pepe\", \"Estefania\"], \n",
    "                \"ventas\": [300, 200, 500, 100, 400]}\n",
    "\n",
    "df2 = pd.DataFrame(diccionario)\n",
    "\n",
    "df2"
   ]
  },
  {
   "cell_type": "code",
   "execution_count": 278,
   "metadata": {},
   "outputs": [
    {
     "data": {
      "text/plain": [
       "dias\n",
       "dia1    250.0\n",
       "dia2    300.0\n",
       "dia3    400.0\n",
       "Name: ventas, dtype: float64"
      ]
     },
     "execution_count": 278,
     "metadata": {},
     "output_type": "execute_result"
    }
   ],
   "source": [
    "df2.groupby(\"dias\")[\"ventas\"].mean()"
   ]
  },
  {
   "cell_type": "code",
   "execution_count": 279,
   "metadata": {},
   "outputs": [
    {
     "data": {
      "text/plain": [
       "dias\n",
       "dia1    500\n",
       "dia2    600\n",
       "dia3    400\n",
       "Name: ventas, dtype: int64"
      ]
     },
     "execution_count": 279,
     "metadata": {},
     "output_type": "execute_result"
    }
   ],
   "source": [
    "df2.groupby(\"dias\")[\"ventas\"].sum()"
   ]
  },
  {
   "cell_type": "code",
   "execution_count": 280,
   "metadata": {},
   "outputs": [
    {
     "data": {
      "text/html": [
       "<div>\n",
       "<style scoped>\n",
       "    .dataframe tbody tr th:only-of-type {\n",
       "        vertical-align: middle;\n",
       "    }\n",
       "\n",
       "    .dataframe tbody tr th {\n",
       "        vertical-align: top;\n",
       "    }\n",
       "\n",
       "    .dataframe thead tr th {\n",
       "        text-align: left;\n",
       "    }\n",
       "\n",
       "    .dataframe thead tr:last-of-type th {\n",
       "        text-align: right;\n",
       "    }\n",
       "</style>\n",
       "<table border=\"1\" class=\"dataframe\">\n",
       "  <thead>\n",
       "    <tr>\n",
       "      <th></th>\n",
       "      <th colspan=\"8\" halign=\"left\">ventas</th>\n",
       "    </tr>\n",
       "    <tr>\n",
       "      <th></th>\n",
       "      <th>count</th>\n",
       "      <th>mean</th>\n",
       "      <th>std</th>\n",
       "      <th>min</th>\n",
       "      <th>25%</th>\n",
       "      <th>50%</th>\n",
       "      <th>75%</th>\n",
       "      <th>max</th>\n",
       "    </tr>\n",
       "    <tr>\n",
       "      <th>dias</th>\n",
       "      <th></th>\n",
       "      <th></th>\n",
       "      <th></th>\n",
       "      <th></th>\n",
       "      <th></th>\n",
       "      <th></th>\n",
       "      <th></th>\n",
       "      <th></th>\n",
       "    </tr>\n",
       "  </thead>\n",
       "  <tbody>\n",
       "    <tr>\n",
       "      <th>dia1</th>\n",
       "      <td>2.0</td>\n",
       "      <td>250.0</td>\n",
       "      <td>70.710678</td>\n",
       "      <td>200.0</td>\n",
       "      <td>225.0</td>\n",
       "      <td>250.0</td>\n",
       "      <td>275.0</td>\n",
       "      <td>300.0</td>\n",
       "    </tr>\n",
       "    <tr>\n",
       "      <th>dia2</th>\n",
       "      <td>2.0</td>\n",
       "      <td>300.0</td>\n",
       "      <td>282.842712</td>\n",
       "      <td>100.0</td>\n",
       "      <td>200.0</td>\n",
       "      <td>300.0</td>\n",
       "      <td>400.0</td>\n",
       "      <td>500.0</td>\n",
       "    </tr>\n",
       "    <tr>\n",
       "      <th>dia3</th>\n",
       "      <td>1.0</td>\n",
       "      <td>400.0</td>\n",
       "      <td>NaN</td>\n",
       "      <td>400.0</td>\n",
       "      <td>400.0</td>\n",
       "      <td>400.0</td>\n",
       "      <td>400.0</td>\n",
       "      <td>400.0</td>\n",
       "    </tr>\n",
       "  </tbody>\n",
       "</table>\n",
       "</div>"
      ],
      "text/plain": [
       "     ventas                                                      \n",
       "      count   mean         std    min    25%    50%    75%    max\n",
       "dias                                                             \n",
       "dia1    2.0  250.0   70.710678  200.0  225.0  250.0  275.0  300.0\n",
       "dia2    2.0  300.0  282.842712  100.0  200.0  300.0  400.0  500.0\n",
       "dia3    1.0  400.0         NaN  400.0  400.0  400.0  400.0  400.0"
      ]
     },
     "execution_count": 280,
     "metadata": {},
     "output_type": "execute_result"
    }
   ],
   "source": [
    "df2.groupby(\"dias\").describe()"
   ]
  },
  {
   "cell_type": "code",
   "execution_count": 281,
   "metadata": {},
   "outputs": [
    {
     "data": {
      "text/html": [
       "<div>\n",
       "<style scoped>\n",
       "    .dataframe tbody tr th:only-of-type {\n",
       "        vertical-align: middle;\n",
       "    }\n",
       "\n",
       "    .dataframe tbody tr th {\n",
       "        vertical-align: top;\n",
       "    }\n",
       "\n",
       "    .dataframe thead th {\n",
       "        text-align: right;\n",
       "    }\n",
       "</style>\n",
       "<table border=\"1\" class=\"dataframe\">\n",
       "  <thead>\n",
       "    <tr style=\"text-align: right;\">\n",
       "      <th></th>\n",
       "      <th>dias</th>\n",
       "      <th>vendedores</th>\n",
       "      <th>ventas</th>\n",
       "    </tr>\n",
       "  </thead>\n",
       "  <tbody>\n",
       "    <tr>\n",
       "      <th>0</th>\n",
       "      <td>dia4</td>\n",
       "      <td>Manolito</td>\n",
       "      <td>800</td>\n",
       "    </tr>\n",
       "    <tr>\n",
       "      <th>1</th>\n",
       "      <td>dia5</td>\n",
       "      <td>Marta</td>\n",
       "      <td>100</td>\n",
       "    </tr>\n",
       "    <tr>\n",
       "      <th>2</th>\n",
       "      <td>dia5</td>\n",
       "      <td>Josefina</td>\n",
       "      <td>900</td>\n",
       "    </tr>\n",
       "    <tr>\n",
       "      <th>3</th>\n",
       "      <td>dia6</td>\n",
       "      <td>Pepe</td>\n",
       "      <td>800</td>\n",
       "    </tr>\n",
       "    <tr>\n",
       "      <th>4</th>\n",
       "      <td>dia6</td>\n",
       "      <td>Estefania</td>\n",
       "      <td>700</td>\n",
       "    </tr>\n",
       "  </tbody>\n",
       "</table>\n",
       "</div>"
      ],
      "text/plain": [
       "   dias vendedores  ventas\n",
       "0  dia4   Manolito     800\n",
       "1  dia5      Marta     100\n",
       "2  dia5   Josefina     900\n",
       "3  dia6       Pepe     800\n",
       "4  dia6  Estefania     700"
      ]
     },
     "execution_count": 281,
     "metadata": {},
     "output_type": "execute_result"
    }
   ],
   "source": [
    "diccionario = {\"dias\": [\"dia4\", \"dia5\", \"dia5\", \"dia6\", \"dia6\"], \n",
    "                \"vendedores\": [\"Manolito\", \"Marta\", \"Josefina\", \"Pepe\", \"Estefania\"], \n",
    "                \"ventas\": [800, 100, 900, 800, 700]}\n",
    "\n",
    "df3 = pd.DataFrame(diccionario)\n",
    "\n",
    "df3"
   ]
  },
  {
   "cell_type": "code",
   "execution_count": 282,
   "metadata": {},
   "outputs": [
    {
     "data": {
      "text/html": [
       "<div>\n",
       "<style scoped>\n",
       "    .dataframe tbody tr th:only-of-type {\n",
       "        vertical-align: middle;\n",
       "    }\n",
       "\n",
       "    .dataframe tbody tr th {\n",
       "        vertical-align: top;\n",
       "    }\n",
       "\n",
       "    .dataframe thead th {\n",
       "        text-align: right;\n",
       "    }\n",
       "</style>\n",
       "<table border=\"1\" class=\"dataframe\">\n",
       "  <thead>\n",
       "    <tr style=\"text-align: right;\">\n",
       "      <th></th>\n",
       "      <th>dias</th>\n",
       "      <th>vendedores</th>\n",
       "      <th>ventas</th>\n",
       "    </tr>\n",
       "  </thead>\n",
       "  <tbody>\n",
       "    <tr>\n",
       "      <th>0</th>\n",
       "      <td>dia1</td>\n",
       "      <td>Manolito</td>\n",
       "      <td>300</td>\n",
       "    </tr>\n",
       "    <tr>\n",
       "      <th>1</th>\n",
       "      <td>dia1</td>\n",
       "      <td>Marta</td>\n",
       "      <td>200</td>\n",
       "    </tr>\n",
       "    <tr>\n",
       "      <th>2</th>\n",
       "      <td>dia2</td>\n",
       "      <td>Josefina</td>\n",
       "      <td>500</td>\n",
       "    </tr>\n",
       "    <tr>\n",
       "      <th>3</th>\n",
       "      <td>dia2</td>\n",
       "      <td>Pepe</td>\n",
       "      <td>100</td>\n",
       "    </tr>\n",
       "    <tr>\n",
       "      <th>4</th>\n",
       "      <td>dia3</td>\n",
       "      <td>Estefania</td>\n",
       "      <td>400</td>\n",
       "    </tr>\n",
       "    <tr>\n",
       "      <th>5</th>\n",
       "      <td>dia4</td>\n",
       "      <td>Manolito</td>\n",
       "      <td>800</td>\n",
       "    </tr>\n",
       "    <tr>\n",
       "      <th>6</th>\n",
       "      <td>dia5</td>\n",
       "      <td>Marta</td>\n",
       "      <td>100</td>\n",
       "    </tr>\n",
       "    <tr>\n",
       "      <th>7</th>\n",
       "      <td>dia5</td>\n",
       "      <td>Josefina</td>\n",
       "      <td>900</td>\n",
       "    </tr>\n",
       "    <tr>\n",
       "      <th>8</th>\n",
       "      <td>dia6</td>\n",
       "      <td>Pepe</td>\n",
       "      <td>800</td>\n",
       "    </tr>\n",
       "    <tr>\n",
       "      <th>9</th>\n",
       "      <td>dia6</td>\n",
       "      <td>Estefania</td>\n",
       "      <td>700</td>\n",
       "    </tr>\n",
       "  </tbody>\n",
       "</table>\n",
       "</div>"
      ],
      "text/plain": [
       "   dias vendedores  ventas\n",
       "0  dia1   Manolito     300\n",
       "1  dia1      Marta     200\n",
       "2  dia2   Josefina     500\n",
       "3  dia2       Pepe     100\n",
       "4  dia3  Estefania     400\n",
       "5  dia4   Manolito     800\n",
       "6  dia5      Marta     100\n",
       "7  dia5   Josefina     900\n",
       "8  dia6       Pepe     800\n",
       "9  dia6  Estefania     700"
      ]
     },
     "execution_count": 282,
     "metadata": {},
     "output_type": "execute_result"
    }
   ],
   "source": [
    "definitivo = pd.concat([df2, df3])\n",
    "\n",
    "definitivo.reset_index(drop=True, inplace=True)\n",
    "\n",
    "definitivo"
   ]
  },
  {
   "cell_type": "code",
   "execution_count": 283,
   "metadata": {},
   "outputs": [
    {
     "data": {
      "text/html": [
       "<div>\n",
       "<style scoped>\n",
       "    .dataframe tbody tr th:only-of-type {\n",
       "        vertical-align: middle;\n",
       "    }\n",
       "\n",
       "    .dataframe tbody tr th {\n",
       "        vertical-align: top;\n",
       "    }\n",
       "\n",
       "    .dataframe thead th {\n",
       "        text-align: right;\n",
       "    }\n",
       "</style>\n",
       "<table border=\"1\" class=\"dataframe\">\n",
       "  <thead>\n",
       "    <tr style=\"text-align: right;\">\n",
       "      <th></th>\n",
       "      <th>dias</th>\n",
       "      <th>vendedores</th>\n",
       "      <th>ventas</th>\n",
       "      <th>dias</th>\n",
       "      <th>vendedores</th>\n",
       "      <th>ventas</th>\n",
       "    </tr>\n",
       "  </thead>\n",
       "  <tbody>\n",
       "    <tr>\n",
       "      <th>0</th>\n",
       "      <td>dia1</td>\n",
       "      <td>Manolito</td>\n",
       "      <td>300</td>\n",
       "      <td>dia4</td>\n",
       "      <td>Manolito</td>\n",
       "      <td>800</td>\n",
       "    </tr>\n",
       "    <tr>\n",
       "      <th>1</th>\n",
       "      <td>dia1</td>\n",
       "      <td>Marta</td>\n",
       "      <td>200</td>\n",
       "      <td>dia5</td>\n",
       "      <td>Marta</td>\n",
       "      <td>100</td>\n",
       "    </tr>\n",
       "    <tr>\n",
       "      <th>2</th>\n",
       "      <td>dia2</td>\n",
       "      <td>Josefina</td>\n",
       "      <td>500</td>\n",
       "      <td>dia5</td>\n",
       "      <td>Josefina</td>\n",
       "      <td>900</td>\n",
       "    </tr>\n",
       "    <tr>\n",
       "      <th>3</th>\n",
       "      <td>dia2</td>\n",
       "      <td>Pepe</td>\n",
       "      <td>100</td>\n",
       "      <td>dia6</td>\n",
       "      <td>Pepe</td>\n",
       "      <td>800</td>\n",
       "    </tr>\n",
       "    <tr>\n",
       "      <th>4</th>\n",
       "      <td>dia3</td>\n",
       "      <td>Estefania</td>\n",
       "      <td>400</td>\n",
       "      <td>dia6</td>\n",
       "      <td>Estefania</td>\n",
       "      <td>700</td>\n",
       "    </tr>\n",
       "  </tbody>\n",
       "</table>\n",
       "</div>"
      ],
      "text/plain": [
       "   dias vendedores  ventas  dias vendedores  ventas\n",
       "0  dia1   Manolito     300  dia4   Manolito     800\n",
       "1  dia1      Marta     200  dia5      Marta     100\n",
       "2  dia2   Josefina     500  dia5   Josefina     900\n",
       "3  dia2       Pepe     100  dia6       Pepe     800\n",
       "4  dia3  Estefania     400  dia6  Estefania     700"
      ]
     },
     "execution_count": 283,
     "metadata": {},
     "output_type": "execute_result"
    }
   ],
   "source": [
    "definitivo = pd.concat([df2, df3], axis=1)\n",
    "\n",
    "definitivo.reset_index(drop=True, inplace=True)\n",
    "\n",
    "definitivo"
   ]
  },
  {
   "cell_type": "code",
   "execution_count": 284,
   "metadata": {},
   "outputs": [],
   "source": [
    "df2.set_index(\"vendedores\", inplace=True)\n",
    "df3.set_index(\"vendedores\", inplace=True)"
   ]
  },
  {
   "cell_type": "code",
   "execution_count": 285,
   "metadata": {},
   "outputs": [
    {
     "data": {
      "text/html": [
       "<div>\n",
       "<style scoped>\n",
       "    .dataframe tbody tr th:only-of-type {\n",
       "        vertical-align: middle;\n",
       "    }\n",
       "\n",
       "    .dataframe tbody tr th {\n",
       "        vertical-align: top;\n",
       "    }\n",
       "\n",
       "    .dataframe thead th {\n",
       "        text-align: right;\n",
       "    }\n",
       "</style>\n",
       "<table border=\"1\" class=\"dataframe\">\n",
       "  <thead>\n",
       "    <tr style=\"text-align: right;\">\n",
       "      <th></th>\n",
       "      <th>ventas</th>\n",
       "    </tr>\n",
       "    <tr>\n",
       "      <th>vendedores</th>\n",
       "      <th></th>\n",
       "    </tr>\n",
       "  </thead>\n",
       "  <tbody>\n",
       "    <tr>\n",
       "      <th>Manolito</th>\n",
       "      <td>800</td>\n",
       "    </tr>\n",
       "    <tr>\n",
       "      <th>Marta</th>\n",
       "      <td>100</td>\n",
       "    </tr>\n",
       "    <tr>\n",
       "      <th>Josefina</th>\n",
       "      <td>900</td>\n",
       "    </tr>\n",
       "    <tr>\n",
       "      <th>Pepe</th>\n",
       "      <td>800</td>\n",
       "    </tr>\n",
       "    <tr>\n",
       "      <th>Estefania</th>\n",
       "      <td>700</td>\n",
       "    </tr>\n",
       "  </tbody>\n",
       "</table>\n",
       "</div>"
      ],
      "text/plain": [
       "            ventas\n",
       "vendedores        \n",
       "Manolito       800\n",
       "Marta          100\n",
       "Josefina       900\n",
       "Pepe           800\n",
       "Estefania      700"
      ]
     },
     "execution_count": 285,
     "metadata": {},
     "output_type": "execute_result"
    }
   ],
   "source": [
    "df3.drop(\"dias\", axis=1, inplace=True)\n",
    "df3"
   ]
  },
  {
   "cell_type": "code",
   "execution_count": 286,
   "metadata": {},
   "outputs": [
    {
     "data": {
      "text/html": [
       "<div>\n",
       "<style scoped>\n",
       "    .dataframe tbody tr th:only-of-type {\n",
       "        vertical-align: middle;\n",
       "    }\n",
       "\n",
       "    .dataframe tbody tr th {\n",
       "        vertical-align: top;\n",
       "    }\n",
       "\n",
       "    .dataframe thead th {\n",
       "        text-align: right;\n",
       "    }\n",
       "</style>\n",
       "<table border=\"1\" class=\"dataframe\">\n",
       "  <thead>\n",
       "    <tr style=\"text-align: right;\">\n",
       "      <th></th>\n",
       "      <th>ventas</th>\n",
       "    </tr>\n",
       "    <tr>\n",
       "      <th>vendedores</th>\n",
       "      <th></th>\n",
       "    </tr>\n",
       "  </thead>\n",
       "  <tbody>\n",
       "    <tr>\n",
       "      <th>Manolito</th>\n",
       "      <td>300</td>\n",
       "    </tr>\n",
       "    <tr>\n",
       "      <th>Marta</th>\n",
       "      <td>200</td>\n",
       "    </tr>\n",
       "    <tr>\n",
       "      <th>Josefina</th>\n",
       "      <td>500</td>\n",
       "    </tr>\n",
       "    <tr>\n",
       "      <th>Pepe</th>\n",
       "      <td>100</td>\n",
       "    </tr>\n",
       "    <tr>\n",
       "      <th>Estefania</th>\n",
       "      <td>400</td>\n",
       "    </tr>\n",
       "  </tbody>\n",
       "</table>\n",
       "</div>"
      ],
      "text/plain": [
       "            ventas\n",
       "vendedores        \n",
       "Manolito       300\n",
       "Marta          200\n",
       "Josefina       500\n",
       "Pepe           100\n",
       "Estefania      400"
      ]
     },
     "execution_count": 286,
     "metadata": {},
     "output_type": "execute_result"
    }
   ],
   "source": [
    "df2.drop(\"dias\",  axis=1, inplace=True)\n",
    "df2"
   ]
  },
  {
   "cell_type": "code",
   "execution_count": 287,
   "metadata": {},
   "outputs": [
    {
     "data": {
      "text/html": [
       "<div>\n",
       "<style scoped>\n",
       "    .dataframe tbody tr th:only-of-type {\n",
       "        vertical-align: middle;\n",
       "    }\n",
       "\n",
       "    .dataframe tbody tr th {\n",
       "        vertical-align: top;\n",
       "    }\n",
       "\n",
       "    .dataframe thead th {\n",
       "        text-align: right;\n",
       "    }\n",
       "</style>\n",
       "<table border=\"1\" class=\"dataframe\">\n",
       "  <thead>\n",
       "    <tr style=\"text-align: right;\">\n",
       "      <th></th>\n",
       "      <th>ventas_totales</th>\n",
       "    </tr>\n",
       "    <tr>\n",
       "      <th>vendedores</th>\n",
       "      <th></th>\n",
       "    </tr>\n",
       "  </thead>\n",
       "  <tbody>\n",
       "    <tr>\n",
       "      <th>Manolito</th>\n",
       "      <td>1100</td>\n",
       "    </tr>\n",
       "    <tr>\n",
       "      <th>Marta</th>\n",
       "      <td>300</td>\n",
       "    </tr>\n",
       "    <tr>\n",
       "      <th>Josefina</th>\n",
       "      <td>1400</td>\n",
       "    </tr>\n",
       "    <tr>\n",
       "      <th>Pepe</th>\n",
       "      <td>900</td>\n",
       "    </tr>\n",
       "    <tr>\n",
       "      <th>Estefania</th>\n",
       "      <td>1100</td>\n",
       "    </tr>\n",
       "  </tbody>\n",
       "</table>\n",
       "</div>"
      ],
      "text/plain": [
       "            ventas_totales\n",
       "vendedores                \n",
       "Manolito              1100\n",
       "Marta                  300\n",
       "Josefina              1400\n",
       "Pepe                   900\n",
       "Estefania             1100"
      ]
     },
     "execution_count": 287,
     "metadata": {},
     "output_type": "execute_result"
    }
   ],
   "source": [
    "# Unir los dos DataFrames en base a la columna 'vendedores'\n",
    "df_merged = pd.merge(df2, df3, on='vendedores', suffixes=('_df2', '_df3'))\n",
    "\n",
    "# Sumar las ventas de ambos DataFrames\n",
    "df_merged['ventas_totales'] = df_merged['ventas_df2'] + df_merged['ventas_df3']\n",
    "\n",
    "# Eliminar las columnas innecesarias, manteniendo solo 'ventas_totales'\n",
    "resultado_final = df_merged[['ventas_totales']]\n",
    "\n",
    "# Mostrar el resultado\n",
    "resultado_final\n"
   ]
  },
  {
   "cell_type": "code",
   "execution_count": 288,
   "metadata": {},
   "outputs": [
    {
     "data": {
      "text/html": [
       "<div>\n",
       "<style scoped>\n",
       "    .dataframe tbody tr th:only-of-type {\n",
       "        vertical-align: middle;\n",
       "    }\n",
       "\n",
       "    .dataframe tbody tr th {\n",
       "        vertical-align: top;\n",
       "    }\n",
       "\n",
       "    .dataframe thead th {\n",
       "        text-align: right;\n",
       "    }\n",
       "</style>\n",
       "<table border=\"1\" class=\"dataframe\">\n",
       "  <thead>\n",
       "    <tr style=\"text-align: right;\">\n",
       "      <th></th>\n",
       "      <th>ventas</th>\n",
       "    </tr>\n",
       "    <tr>\n",
       "      <th>vendedores</th>\n",
       "      <th></th>\n",
       "    </tr>\n",
       "  </thead>\n",
       "  <tbody>\n",
       "    <tr>\n",
       "      <th>Estefania</th>\n",
       "      <td>1100</td>\n",
       "    </tr>\n",
       "    <tr>\n",
       "      <th>Josefina</th>\n",
       "      <td>1400</td>\n",
       "    </tr>\n",
       "    <tr>\n",
       "      <th>Manolito</th>\n",
       "      <td>1100</td>\n",
       "    </tr>\n",
       "    <tr>\n",
       "      <th>Marta</th>\n",
       "      <td>300</td>\n",
       "    </tr>\n",
       "    <tr>\n",
       "      <th>Pepe</th>\n",
       "      <td>900</td>\n",
       "    </tr>\n",
       "  </tbody>\n",
       "</table>\n",
       "</div>"
      ],
      "text/plain": [
       "            ventas\n",
       "vendedores        \n",
       "Estefania     1100\n",
       "Josefina      1400\n",
       "Manolito      1100\n",
       "Marta          300\n",
       "Pepe           900"
      ]
     },
     "execution_count": 288,
     "metadata": {},
     "output_type": "execute_result"
    }
   ],
   "source": [
    "df_concatenado = pd.concat([df2, df3], axis=0)\n",
    "resultado = df_concatenado.groupby(df_concatenado.index).sum()\n",
    "\n",
    "# Mostrar el resultado\n",
    "resultado"
   ]
  },
  {
   "cell_type": "code",
   "execution_count": 289,
   "metadata": {},
   "outputs": [
    {
     "data": {
      "text/html": [
       "<div>\n",
       "<style scoped>\n",
       "    .dataframe tbody tr th:only-of-type {\n",
       "        vertical-align: middle;\n",
       "    }\n",
       "\n",
       "    .dataframe tbody tr th {\n",
       "        vertical-align: top;\n",
       "    }\n",
       "\n",
       "    .dataframe thead th {\n",
       "        text-align: right;\n",
       "    }\n",
       "</style>\n",
       "<table border=\"1\" class=\"dataframe\">\n",
       "  <thead>\n",
       "    <tr style=\"text-align: right;\">\n",
       "      <th></th>\n",
       "      <th>ventas</th>\n",
       "      <th>pendejo</th>\n",
       "    </tr>\n",
       "    <tr>\n",
       "      <th>vendedores</th>\n",
       "      <th></th>\n",
       "      <th></th>\n",
       "    </tr>\n",
       "  </thead>\n",
       "  <tbody>\n",
       "    <tr>\n",
       "      <th>Manolito</th>\n",
       "      <td>800</td>\n",
       "      <td>300</td>\n",
       "    </tr>\n",
       "    <tr>\n",
       "      <th>Marta</th>\n",
       "      <td>100</td>\n",
       "      <td>200</td>\n",
       "    </tr>\n",
       "    <tr>\n",
       "      <th>Josefina</th>\n",
       "      <td>900</td>\n",
       "      <td>500</td>\n",
       "    </tr>\n",
       "    <tr>\n",
       "      <th>Pepe</th>\n",
       "      <td>800</td>\n",
       "      <td>100</td>\n",
       "    </tr>\n",
       "    <tr>\n",
       "      <th>Estefania</th>\n",
       "      <td>700</td>\n",
       "      <td>400</td>\n",
       "    </tr>\n",
       "  </tbody>\n",
       "</table>\n",
       "</div>"
      ],
      "text/plain": [
       "            ventas  pendejo\n",
       "vendedores                 \n",
       "Manolito       800      300\n",
       "Marta          100      200\n",
       "Josefina       900      500\n",
       "Pepe           800      100\n",
       "Estefania      700      400"
      ]
     },
     "execution_count": 289,
     "metadata": {},
     "output_type": "execute_result"
    }
   ],
   "source": [
    "df2.columns = [\"pendejo\"]\n",
    "#df2.drop(\"Marta\", inplace=True)\n",
    "df3.join(df2)"
   ]
  },
  {
   "cell_type": "code",
   "execution_count": 290,
   "metadata": {},
   "outputs": [
    {
     "data": {
      "text/html": [
       "<div>\n",
       "<style scoped>\n",
       "    .dataframe tbody tr th:only-of-type {\n",
       "        vertical-align: middle;\n",
       "    }\n",
       "\n",
       "    .dataframe tbody tr th {\n",
       "        vertical-align: top;\n",
       "    }\n",
       "\n",
       "    .dataframe thead th {\n",
       "        text-align: right;\n",
       "    }\n",
       "</style>\n",
       "<table border=\"1\" class=\"dataframe\">\n",
       "  <thead>\n",
       "    <tr style=\"text-align: right;\">\n",
       "      <th></th>\n",
       "      <th>Unnamed: 0</th>\n",
       "      <th>a</th>\n",
       "      <th>b</th>\n",
       "      <th>c</th>\n",
       "      <th>d</th>\n",
       "    </tr>\n",
       "  </thead>\n",
       "  <tbody>\n",
       "    <tr>\n",
       "      <th>0</th>\n",
       "      <td>0</td>\n",
       "      <td>0</td>\n",
       "      <td>1</td>\n",
       "      <td>2</td>\n",
       "      <td>3</td>\n",
       "    </tr>\n",
       "    <tr>\n",
       "      <th>1</th>\n",
       "      <td>1</td>\n",
       "      <td>4</td>\n",
       "      <td>5</td>\n",
       "      <td>6</td>\n",
       "      <td>7</td>\n",
       "    </tr>\n",
       "    <tr>\n",
       "      <th>2</th>\n",
       "      <td>2</td>\n",
       "      <td>8</td>\n",
       "      <td>9</td>\n",
       "      <td>10</td>\n",
       "      <td>11</td>\n",
       "    </tr>\n",
       "    <tr>\n",
       "      <th>3</th>\n",
       "      <td>3</td>\n",
       "      <td>12</td>\n",
       "      <td>13</td>\n",
       "      <td>14</td>\n",
       "      <td>15</td>\n",
       "    </tr>\n",
       "  </tbody>\n",
       "</table>\n",
       "</div>"
      ],
      "text/plain": [
       "   Unnamed: 0   a   b   c   d\n",
       "0           0   0   1   2   3\n",
       "1           1   4   5   6   7\n",
       "2           2   8   9  10  11\n",
       "3           3  12  13  14  15"
      ]
     },
     "execution_count": 290,
     "metadata": {},
     "output_type": "execute_result"
    }
   ],
   "source": [
    "df4 = pd.read_excel(r\"C:\\Users\\Fanper\\Documents\\PYTHON\\Proyectos_IA\\Ejemplo_excel.xlsx\")\n",
    "\n",
    "df4"
   ]
  },
  {
   "cell_type": "code",
   "execution_count": 291,
   "metadata": {},
   "outputs": [],
   "source": [
    "df4[\"pene\"] = [\"pene\", \"pene\", \"superpene\", \"Marta\"]"
   ]
  },
  {
   "cell_type": "code",
   "execution_count": 292,
   "metadata": {},
   "outputs": [
    {
     "data": {
      "text/html": [
       "<div>\n",
       "<style scoped>\n",
       "    .dataframe tbody tr th:only-of-type {\n",
       "        vertical-align: middle;\n",
       "    }\n",
       "\n",
       "    .dataframe tbody tr th {\n",
       "        vertical-align: top;\n",
       "    }\n",
       "\n",
       "    .dataframe thead th {\n",
       "        text-align: right;\n",
       "    }\n",
       "</style>\n",
       "<table border=\"1\" class=\"dataframe\">\n",
       "  <thead>\n",
       "    <tr style=\"text-align: right;\">\n",
       "      <th></th>\n",
       "      <th>Unnamed: 0</th>\n",
       "      <th>a</th>\n",
       "      <th>b</th>\n",
       "      <th>c</th>\n",
       "      <th>d</th>\n",
       "      <th>pene</th>\n",
       "    </tr>\n",
       "  </thead>\n",
       "  <tbody>\n",
       "    <tr>\n",
       "      <th>0</th>\n",
       "      <td>0</td>\n",
       "      <td>0</td>\n",
       "      <td>1</td>\n",
       "      <td>2</td>\n",
       "      <td>3</td>\n",
       "      <td>pene</td>\n",
       "    </tr>\n",
       "    <tr>\n",
       "      <th>1</th>\n",
       "      <td>1</td>\n",
       "      <td>4</td>\n",
       "      <td>5</td>\n",
       "      <td>6</td>\n",
       "      <td>7</td>\n",
       "      <td>pene</td>\n",
       "    </tr>\n",
       "    <tr>\n",
       "      <th>2</th>\n",
       "      <td>2</td>\n",
       "      <td>8</td>\n",
       "      <td>9</td>\n",
       "      <td>10</td>\n",
       "      <td>11</td>\n",
       "      <td>superpene</td>\n",
       "    </tr>\n",
       "    <tr>\n",
       "      <th>3</th>\n",
       "      <td>3</td>\n",
       "      <td>12</td>\n",
       "      <td>13</td>\n",
       "      <td>14</td>\n",
       "      <td>15</td>\n",
       "      <td>Marta</td>\n",
       "    </tr>\n",
       "  </tbody>\n",
       "</table>\n",
       "</div>"
      ],
      "text/plain": [
       "   Unnamed: 0   a   b   c   d       pene\n",
       "0           0   0   1   2   3       pene\n",
       "1           1   4   5   6   7       pene\n",
       "2           2   8   9  10  11  superpene\n",
       "3           3  12  13  14  15      Marta"
      ]
     },
     "execution_count": 292,
     "metadata": {},
     "output_type": "execute_result"
    }
   ],
   "source": [
    "df4"
   ]
  },
  {
   "cell_type": "code",
   "execution_count": 293,
   "metadata": {},
   "outputs": [],
   "source": [
    "df4.to_excel(r\"C:\\Proyectos\\Ejemplo.xlsx\", sheet_name=\"Hoja1\")"
   ]
  },
  {
   "cell_type": "code",
   "execution_count": 294,
   "metadata": {},
   "outputs": [
    {
     "data": {
      "text/plain": [
       "<Axes: >"
      ]
     },
     "execution_count": 294,
     "metadata": {},
     "output_type": "execute_result"
    },
    {
     "data": {
      "image/png": "[encoded data removed]",
      "text/plain": [
       "<Figure size 640x480 with 1 Axes>"
      ]
     },
     "metadata": {},
     "output_type": "display_data"
    }
   ],
   "source": [
    "df5 = pd.DataFrame(np.random.randint(200, size=(50,4)), columns=[\"a\", \"b\", \"c\", \"d\"])\n",
    "df5[\"a\"].hist(bins=30)"
   ]
  },
  {
   "cell_type": "code",
   "execution_count": 295,
   "metadata": {},
   "outputs": [
    {
     "data": {
      "text/plain": [
       "<Axes: ylabel='Frequency'>"
      ]
     },
     "execution_count": 295,
     "metadata": {},
     "output_type": "execute_result"
    },
    {
     "data": {
      "image/png": "[encoded data removed]",
      "text/plain": [
       "<Figure size 640x480 with 1 Axes>"
      ]
     },
     "metadata": {},
     "output_type": "display_data"
    }
   ],
   "source": [
    "df5[\"a\"].plot.hist(bins=30)"
   ]
  },
  {
   "cell_type": "code",
   "execution_count": 296,
   "metadata": {},
   "outputs": [
    {
     "data": {
      "text/plain": [
       "<Axes: >"
      ]
     },
     "execution_count": 296,
     "metadata": {},
     "output_type": "execute_result"
    },
    {
     "data": {
      "image/png": "[encoded data removed]",
      "text/plain": [
       "<Figure size 640x480 with 1 Axes>"
      ]
     },
     "metadata": {},
     "output_type": "display_data"
    }
   ],
   "source": [
    "df5.plot.area(alpha=0.7)"
   ]
  },
  {
   "cell_type": "code",
   "execution_count": 297,
   "metadata": {},
   "outputs": [
    {
     "data": {
      "text/plain": [
       "<Axes: >"
      ]
     },
     "execution_count": 297,
     "metadata": {},
     "output_type": "execute_result"
    },
    {
     "data": {
      "image/png": "[encoded data removed]",
      "text/plain": [
       "<Figure size 640x480 with 1 Axes>"
      ]
     },
     "metadata": {},
     "output_type": "display_data"
    }
   ],
   "source": [
    "df5.plot.bar(stacked=True)"
   ]
  },
  {
   "cell_type": "code",
   "execution_count": 298,
   "metadata": {},
   "outputs": [
    {
     "data": {
      "text/plain": [
       "<Axes: xlabel='a', ylabel='b'>"
      ]
     },
     "execution_count": 298,
     "metadata": {},
     "output_type": "execute_result"
    },
    {
     "data": {
      "image/png": "[encoded data removed]",
      "text/plain": [
       "<Figure size 640x480 with 2 Axes>"
      ]
     },
     "metadata": {},
     "output_type": "display_data"
    }
   ],
   "source": [
    "df5.plot.scatter(x=\"a\", y=\"b\", c=\"c\", cmap=\"coolwarm\")"
   ]
  },
  {
   "cell_type": "code",
   "execution_count": 299,
   "metadata": {},
   "outputs": [
    {
     "data": {
      "text/plain": [
       "<Axes: >"
      ]
     },
     "execution_count": 299,
     "metadata": {},
     "output_type": "execute_result"
    },
    {
     "data": {
      "image/png": "[encoded data removed]",
      "text/plain": [
       "<Figure size 640x480 with 1 Axes>"
      ]
     },
     "metadata": {},
     "output_type": "display_data"
    }
   ],
   "source": [
    "df5.plot.box()"
   ]
  },
  {
   "cell_type": "code",
   "execution_count": 300,
   "metadata": {},
   "outputs": [
    {
     "data": {
      "text/plain": [
       "<Axes: xlabel='a', ylabel='b'>"
      ]
     },
     "execution_count": 300,
     "metadata": {},
     "output_type": "execute_result"
    },
    {
     "data": {
      "image/png": "[encoded data removed]",
      "text/plain": [
       "<Figure size 640x480 with 2 Axes>"
      ]
     },
     "metadata": {},
     "output_type": "display_data"
    }
   ],
   "source": [
    "df5.plot.hexbin(x=\"a\", y=\"b\", gridsize=12)"
   ]
  },
  {
   "cell_type": "code",
   "execution_count": 301,
   "metadata": {},
   "outputs": [
    {
     "data": {
      "text/plain": [
       "<Axes: ylabel='Density'>"
      ]
     },
     "execution_count": 301,
     "metadata": {},
     "output_type": "execute_result"
    },
    {
     "data": {
      "image/png": "[encoded data removed]",
      "text/plain": [
       "<Figure size 640x480 with 1 Axes>"
      ]
     },
     "metadata": {},
     "output_type": "display_data"
    }
   ],
   "source": [
    "df5.plot.kde()"
   ]
  },
  {
   "cell_type": "code",
   "execution_count": 302,
   "metadata": {},
   "outputs": [
    {
     "data": {
      "text/plain": [
       "<Axes: ylabel='Density'>"
      ]
     },
     "execution_count": 302,
     "metadata": {},
     "output_type": "execute_result"
    },
    {
     "data": {
      "image/png": "[encoded data removed]",
      "text/plain": [
       "<Figure size 640x480 with 1 Axes>"
      ]
     },
     "metadata": {},
     "output_type": "display_data"
    }
   ],
   "source": [
    "df5.plot.density()"
   ]
  }
 ],
 "metadata": {
  "kernelspec": {
   "display_name": "Python 3",
   "language": "python",
   "name": "python3"
  },
  "language_info": {
   "codemirror_mode": {
    "name": "ipython",
    "version": 3
   },
   "file_extension": ".py",
   "mimetype": "text/x-python",
   "name": "python",
   "nbconvert_exporter": "python",
   "pygments_lexer": "ipython3",
   "version": "3.11.3"
  }
 },
 "nbformat": 4,
 "nbformat_minor": 2
}
